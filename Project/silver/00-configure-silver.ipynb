{
 "cells": [
  {
   "cell_type": "markdown",
   "metadata": {
    "application/vnd.databricks.v1+cell": {
     "cellMetadata": {
      "byteLimit": 2048000,
      "rowLimit": 10000
     },
     "inputWidgets": {},
     "nuid": "97f641e1-1d39-460b-896c-af0f893f3a45",
     "showTitle": false,
     "tableResultSettingsMap": {},
     "title": ""
    }
   },
   "source": [
    "Setup silver external location in unity catalog UI "
   ]
  },
  {
   "cell_type": "code",
   "execution_count": 0,
   "metadata": {
    "application/vnd.databricks.v1+cell": {
     "cellMetadata": {
      "byteLimit": 2048000,
      "rowLimit": 10000
     },
     "inputWidgets": {},
     "nuid": "3f7b16dd-8aa3-4557-bdbd-04e4a29b483c",
     "showTitle": false,
     "tableResultSettingsMap": {},
     "title": ""
    }
   },
   "outputs": [
    {
     "output_type": "stream",
     "name": "stdout",
     "output_type": "stream",
     "text": [
      "Creating Silver Home directory in silver container\nCreating directory:abfss://silver@datalakeselectivaproject.dfs.core.windows.net/edw/channels/\nCreating directory:abfss://silver@datalakeselectivaproject.dfs.core.windows.net/edw/costs/\nCreating directory:abfss://silver@datalakeselectivaproject.dfs.core.windows.net/edw/customers/\nCreating directory:abfss://silver@datalakeselectivaproject.dfs.core.windows.net/edw/products/\nCreating directory:abfss://silver@datalakeselectivaproject.dfs.core.windows.net/edw/promotions/\nCreating directory:abfss://silver@datalakeselectivaproject.dfs.core.windows.net/edw/sales/\nCreating directory:abfss://silver@datalakeselectivaproject.dfs.core.windows.net/edw/supplementary_demographics/\nCreating directory:abfss://silver@datalakeselectivaproject.dfs.core.windows.net/edw/times/\n"
     ]
    }
   ],
   "source": [
    "# create Silver layer directory structure for edw \n",
    "silver_path    = 'abfss://silver@datalakeselectivaproject.dfs.core.windows.net/' # redefined later\n",
    "silver_home    = 'edw'\n",
    "bronze_path    = 'abfss://bronze@datalakeselectivaproject.dfs.core.windows.net/'\n",
    "expected_dirs  = ['channels/', 'costs/', 'customers/', 'products/', 'promotions/', 'sales/', 'supplementary_demographics/', 'times/']\n",
    "\n",
    "bronze_dirs    = [d.name for d in dbutils.fs.ls(bronze_path)]\n",
    "ls_silver_dirs = [d.name for d in dbutils.fs.ls(silver_path)]\n",
    "\n",
    "# check if no home dir (no data in silver layer) then create home dir\n",
    "if len(ls_silver_dirs) == 0:\n",
    "    print(\"Creating Silver Home directory in silver container\")\n",
    "    dbutils.fs.mkdirs(silver_path + silver_home)\n",
    "\n",
    "silver_path = silver_path + silver_home + '/'\n",
    "silver_dirs = [d.name for d in dbutils.fs.ls(silver_path)]\n",
    "\n",
    "for d in bronze_dirs:\n",
    "    if d in expected_dirs and d not in silver_dirs:\n",
    "        print('Creating directory:'   + silver_path + d)\n",
    "        dbutils.fs.mkdirs(silver_path + d)\n",
    "    else:\n",
    "        print(f'Directory {d} either Exists or not expected, skipping')\n",
    "        continue"
   ]
  },
  {
   "cell_type": "code",
   "execution_count": 0,
   "metadata": {
    "application/vnd.databricks.v1+cell": {
     "cellMetadata": {
      "byteLimit": 2048000,
      "rowLimit": 10000
     },
     "inputWidgets": {},
     "nuid": "857da705-159b-4729-8788-92f97d62e0d9",
     "showTitle": false,
     "tableResultSettingsMap": {},
     "title": ""
    }
   },
   "outputs": [
    {
     "output_type": "stream",
     "name": "stdout",
     "output_type": "stream",
     "text": [
      "['channels/', 'costs/', 'customers/', 'products/', 'promotions/', 'sales/', 'supplementary_demographics/', 'times/']\n"
     ]
    }
   ],
   "source": [
    "print(bronze_dirs)"
   ]
  },
  {
   "cell_type": "code",
   "execution_count": 0,
   "metadata": {
    "application/vnd.databricks.v1+cell": {
     "cellMetadata": {
      "byteLimit": 2048000,
      "rowLimit": 10000
     },
     "inputWidgets": {},
     "nuid": "2a4b304e-663f-4377-91f0-4df6aafc2044",
     "showTitle": false,
     "tableResultSettingsMap": {},
     "title": ""
    }
   },
   "outputs": [
    {
     "output_type": "stream",
     "name": "stdout",
     "output_type": "stream",
     "text": [
      "[]\n"
     ]
    }
   ],
   "source": [
    "print(silver_dirs)"
   ]
  },
  {
   "cell_type": "code",
   "execution_count": 0,
   "metadata": {
    "application/vnd.databricks.v1+cell": {
     "cellMetadata": {
      "byteLimit": 2048000,
      "implicitDf": true,
      "rowLimit": 10000
     },
     "inputWidgets": {},
     "nuid": "c3bce8a1-6122-4915-b2f1-1899fd1b02f6",
     "showTitle": false,
     "tableResultSettingsMap": {},
     "title": ""
    }
   },
   "outputs": [
    {
     "output_type": "display_data",
     "data": {
      "text/html": [
       "<style scoped>\n",
       "  .table-result-container {\n",
       "    max-height: 300px;\n",
       "    overflow: auto;\n",
       "  }\n",
       "  table, th, td {\n",
       "    border: 1px solid black;\n",
       "    border-collapse: collapse;\n",
       "  }\n",
       "  th, td {\n",
       "    padding: 5px;\n",
       "  }\n",
       "  th {\n",
       "    text-align: left;\n",
       "  }\n",
       "</style><div class='table-result-container'><table class='table-result'><thead style='background-color: white'><tr></tr></thead><tbody></tbody></table></div>"
      ]
     },
     "metadata": {
      "application/vnd.databricks.v1+output": {
       "addedWidgets": {},
       "aggData": [],
       "aggError": "",
       "aggOverflow": false,
       "aggSchema": [],
       "aggSeriesLimitReached": false,
       "aggType": "",
       "arguments": {},
       "columnCustomDisplayInfos": {},
       "data": [],
       "datasetInfos": [],
       "dbfsResultPath": null,
       "isJsonSchema": true,
       "metadata": {
        "dataframeName": null
       },
       "overflow": false,
       "plotOptions": {
        "customPlotOptions": {},
        "displayType": "table",
        "pivotAggregation": null,
        "pivotColumns": null,
        "xColumns": null,
        "yColumns": null
       },
       "removedWidgets": [],
       "schema": [],
       "type": "table"
      }
     },
     "output_type": "display_data"
    }
   ],
   "source": [
    "%sql \n",
    "CREATE SCHEMA IF NOT EXISTS `selectiva-project`.edw;\n"
   ]
  },
  {
   "cell_type": "markdown",
   "metadata": {
    "application/vnd.databricks.v1+cell": {
     "cellMetadata": {
      "byteLimit": 2048000,
      "rowLimit": 10000
     },
     "inputWidgets": {},
     "nuid": "2607249b-c04c-4839-a82c-c041989b0eda",
     "showTitle": false,
     "tableResultSettingsMap": {},
     "title": ""
    }
   },
   "source": [
    "DEFINING SCHEMA FOR SILVER LAYER CLOUD DIRS USING SCHEMA INFERED FROM BRONZE LAYER, not hardcoding for efficient & reusable code "
   ]
  },
  {
   "cell_type": "code",
   "execution_count": 0,
   "metadata": {
    "application/vnd.databricks.v1+cell": {
     "cellMetadata": {
      "byteLimit": 2048000,
      "rowLimit": 10000
     },
     "inputWidgets": {},
     "nuid": "0d124769-5ba3-4947-906f-ef9f5a1d1632",
     "showTitle": false,
     "tableResultSettingsMap": {},
     "title": ""
    }
   },
   "outputs": [],
   "source": [
    "target_schema_name = 'edw'"
   ]
  },
  {
   "cell_type": "code",
   "execution_count": 0,
   "metadata": {
    "application/vnd.databricks.v1+cell": {
     "cellMetadata": {
      "byteLimit": 2048000,
      "rowLimit": 10000
     },
     "inputWidgets": {},
     "nuid": "7142e221-f011-4d73-b5c2-e8733ad226b5",
     "showTitle": false,
     "tableResultSettingsMap": {},
     "title": ""
    }
   },
   "outputs": [],
   "source": [
    "dim_list = ['channels/', 'customers/', 'products/', 'promotions/','supplementary_demographics/', 'times/']\n",
    "bronze_dirs    = [d.name for d in dbutils.fs.ls(bronze_path)]\n",
    "silver_dirs = [d.name for d in dbutils.fs.ls(silver_path)]\n",
    "\n",
    "for d in dim_list:\n",
    "    if d not in bronze_dirs or d not in silver_dirs:\n",
    "        print(f\"Something went wrong, please check {d} directory\")\n",
    "        break\n",
    "    else: \n",
    "        df = spark.read.format('delta').option(\"header\", \"true\").option(\"inferSchema\", \"true\").load(bronze_path + d)\n",
    "        schema = df.schema\n",
    "        e_df   = spark.createDataFrame([], schema)\n",
    "        f      = len(dbutils.fs.ls(silver_path + d))\n",
    "        if (e_df.count() == 0 and f == 0):\n",
    "            target_table_name = d.split('/')[0] + '_' + target_schema_name\n",
    "            target_dir = silver_path + d\n",
    "            e_df.write.format('delta').mode('overwrite').save(silver_path + d)\n",
    "            spark.sql(f\"\"\"\n",
    "                  CREATE TABLE IF NOT EXISTS `selectiva-project`.{target_schema_name}.{target_table_name}\n",
    "                  USING DELTA \n",
    "                  LOCATION '{target_dir}'\n",
    "                    \"\"\")\n",
    "\n",
    "        else: \n",
    "            print(f\"Data found while defining schema for silver location {silver_path + d} \")\n",
    "\n"
   ]
  },
  {
   "cell_type": "code",
   "execution_count": 0,
   "metadata": {
    "application/vnd.databricks.v1+cell": {
     "cellMetadata": {
      "byteLimit": 2048000,
      "rowLimit": 10000
     },
     "inputWidgets": {},
     "nuid": "0718411a-e466-4d05-adc0-dad899688322",
     "showTitle": false,
     "tableResultSettingsMap": {},
     "title": ""
    }
   },
   "outputs": [],
   "source": [
    "fact_tables = ['costs/','sales/']\n",
    "for f in fact_tables:\n",
    "    if f not in bronze_dirs or f not in silver_dirs:\n",
    "        print(f\"Something went wrong, please check {d} directory\")\n",
    "        break\n",
    "    else: \n",
    "        df = spark.read.format('delta').option(\"header\", \"true\").option(\"inferSchema\", \"true\").load(bronze_path + f)\n",
    "        schema = df.schema\n",
    "        e_df   = spark.createDataFrame([], schema)\n",
    "        l      = len(dbutils.fs.ls(silver_path + f))\n",
    "        if (e_df.count() == 0 and l == 0):\n",
    "            target_table_name = f.split('/')[0] + '_' + target_schema_name\n",
    "            target_dir = silver_path + f\n",
    "            e_df.write.format('delta').mode('overwrite').save(silver_path + f)\n",
    "            spark.sql(f\"\"\"\n",
    "                  CREATE TABLE IF NOT EXISTS `selectiva-project`.{target_schema_name}.{target_table_name}\n",
    "                  USING DELTA \n",
    "                  LOCATION '{target_dir}'\n",
    "                    \"\"\")\n",
    "        else: \n",
    "            print(f\"Data found while defining schema for silver location {silver_path + f} \")\n"
   ]
  }
 ],
 "metadata": {
  "application/vnd.databricks.v1+notebook": {
   "computePreferences": null,
   "dashboards": [],
   "environmentMetadata": {
    "base_environment": "",
    "client": "1"
   },
   "language": "python",
   "notebookMetadata": {
    "mostRecentlyExecutedCommandWithImplicitDF": {
     "commandId": 8144656347249395,
     "dataframes": [
      "_sqldf"
     ]
    },
    "pythonIndentUnit": 4
   },
   "notebookName": "00-configure-silver",
   "widgets": {}
  },
  "language_info": {
   "name": "python"
  }
 },
 "nbformat": 4,
 "nbformat_minor": 0
}